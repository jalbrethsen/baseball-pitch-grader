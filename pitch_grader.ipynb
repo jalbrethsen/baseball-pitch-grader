{
 "cells": [
  {
   "cell_type": "code",
   "execution_count": null,
   "id": "63bd1960-4130-4918-a01e-8eb0c6d5ce6f",
   "metadata": {},
   "outputs": [],
   "source": [
    "import pandas as pd\n",
    "import numpy as np\n",
    "import json\n",
    "import torch\n",
    "import random\n",
    "from torch.utils.data import DataLoader, random_split,WeightedRandomSampler\n",
    "from utils.dataloader import BaseballDataset\n",
    "from utils.trainer import BaseballClassifierTrainer\n",
    "from models.pitch_grader_mlp import PitchGraderMLP\n",
    "from denseweight import DenseWeight"
   ]
  },
  {
   "cell_type": "markdown",
   "id": "2bf0772b-9d0b-4999-87ce-421ebb246cae",
   "metadata": {},
   "source": [
    "# Load prepared data\n",
    "create dataset for without and with training embeddings"
   ]
  },
  {
   "cell_type": "code",
   "execution_count": null,
   "id": "e451617f-a57b-4630-bbe9-a3a69a40cbe7",
   "metadata": {},
   "outputs": [],
   "source": [
    "with open(\"data/preprocessed/batter_map_2015_2024.json\",\"r\") as infile:\n",
    "    batter_map = json.load(infile)\n",
    "with open(\"data/preprocessed/pitcher_map_2015_2024.json\",\"r\") as infile:\n",
    "    pitcher_map = json.load(infile)\n",
    "\n",
    "x_data_file = \"data/preprocessed/X_train_norm.npy\"\n",
    "y_data_file = \"data/preprocessed/Y_train.npy\"\n",
    "\n",
    "full_dataset = BaseballDataset(\n",
    "    x_data_file,\n",
    "    y_data_file\n",
    ")"
   ]
  },
  {
   "cell_type": "markdown",
   "id": "417bf2ce-fb93-40c0-92b0-eca896a5935a",
   "metadata": {},
   "source": [
    "# Create model"
   ]
  },
  {
   "cell_type": "code",
   "execution_count": null,
   "id": "512347be-6e2e-4a10-99a9-36524046eac2",
   "metadata": {},
   "outputs": [],
   "source": [
    "# define hyper parameters\n",
    "hidden_dim = 64\n",
    "pitch_features = full_dataset[0][0].shape[0]\n",
    "# ball, strike, in-play\n",
    "output_dim = 3\n",
    "batch_size = 512\n",
    "epochs = 500\n",
    "device = 'cuda'\n",
    "learning_rate = 0.001\n",
    "verbose = True\n",
    "torch.manual_seed(42)\n",
    "# use MLP with 1 input layer, 1 hidden layer, and 1 output layer\n",
    "model = PitchGraderMLP(\n",
    "    pitch_features,\n",
    "    len(batter_map), len(pitcher_map),\n",
    "    hidden_dim,\n",
    "    output_dim\n",
    ")"
   ]
  },
  {
   "cell_type": "markdown",
   "id": "2de0e1ad-9ac0-4c9a-9900-2046d4747bcd",
   "metadata": {},
   "source": [
    "## Setup our dataloader\n",
    "More memory efficient than loading the entire dataset into memory and helps shuffle and weight samples"
   ]
  },
  {
   "cell_type": "code",
   "execution_count": null,
   "id": "64513b8c-f4ea-4dd2-b2f6-c2efc6fb615e",
   "metadata": {},
   "outputs": [],
   "source": [
    "train_split = 0.8\n",
    "test_split = 0.2\n",
    "train_dataset, test_dataset = random_split(full_dataset, [train_split, test_split])\n",
    "# Weight the samples to compensate for class imbalance\n",
    "dw = DenseWeight(alpha=0.5)\n",
    "weights = dw.fit(train_dataset[:][1].numpy())\n",
    "sampler = WeightedRandomSampler(weights=weights, num_samples=len(weights), replacement=True)\n",
    "train_loader = DataLoader(train_dataset, batch_size=batch_size, num_workers=4, sampler=sampler)\n",
    "# test batch size can be as big as memory allows\n",
    "test_loader = DataLoader(test_dataset, batch_size=2048, shuffle=False, num_workers=4)"
   ]
  },
  {
   "cell_type": "markdown",
   "id": "1944a0d8-4964-4091-8a91-4fb488d56d9f",
   "metadata": {},
   "source": [
    "## Setup our model trainer\n",
    "This defines our training loop and auto evaluates for us periodically"
   ]
  },
  {
   "cell_type": "code",
   "execution_count": null,
   "id": "de101fd8-29ea-486a-add2-f68862d438dd",
   "metadata": {},
   "outputs": [],
   "source": [
    "trainer = BaseballClassifierTrainer(\n",
    "    model, train_loader, test_loader,\n",
    "    learning_rate = learning_rate,\n",
    "    device = device, verbose = verbose\n",
    ")"
   ]
  },
  {
   "cell_type": "markdown",
   "id": "0e2dd025-dd8c-4d98-a2f8-180da8a91f82",
   "metadata": {},
   "source": [
    "## Pre-training evaluation\n",
    "Let us see where we are starting from"
   ]
  },
  {
   "cell_type": "code",
   "execution_count": null,
   "id": "ea269abb-0e3e-4123-a8f8-b0eee914d675",
   "metadata": {
    "scrolled": true
   },
   "outputs": [],
   "source": [
    "trainer.evaluate()"
   ]
  },
  {
   "cell_type": "markdown",
   "id": "9193e880-66d3-4b7d-afa8-ad57e22f4b70",
   "metadata": {},
   "source": [
    "## Train the model"
   ]
  },
  {
   "cell_type": "code",
   "execution_count": null,
   "id": "65d7517e-cb10-46db-9834-e9601238941d",
   "metadata": {
    "scrolled": true
   },
   "outputs": [],
   "source": [
    "trainer.train(epochs)\n",
    "torch.save(trainer.model.state_dict(),f'models/checkpoints/pitch_grader_{epochs}.pt')"
   ]
  },
  {
   "cell_type": "markdown",
   "id": "821af598-1a39-47e1-b628-8191bdaf32cb",
   "metadata": {},
   "source": [
    "## Post-training Evaluation"
   ]
  },
  {
   "cell_type": "code",
   "execution_count": null,
   "id": "dce5fac2-bcd5-4e94-9bcf-2835d9f2b3a1",
   "metadata": {
    "scrolled": true
   },
   "outputs": [],
   "source": [
    "trainer.evaluate()"
   ]
  }
 ],
 "metadata": {
  "kernelspec": {
   "display_name": "Python 3 (ipykernel)",
   "language": "python",
   "name": "python3"
  },
  "language_info": {
   "codemirror_mode": {
    "name": "ipython",
    "version": 3
   },
   "file_extension": ".py",
   "mimetype": "text/x-python",
   "name": "python",
   "nbconvert_exporter": "python",
   "pygments_lexer": "ipython3",
   "version": "3.12.9"
  }
 },
 "nbformat": 4,
 "nbformat_minor": 5
}
