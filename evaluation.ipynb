{
 "cells": [
  {
   "cell_type": "code",
   "execution_count": 1,
   "id": "8d367fd1-6ae0-440a-80c5-fa87c8f55fdf",
   "metadata": {},
   "outputs": [],
   "source": [
    "import torch\n",
    "import torch.nn as nn\n",
    "import json\n",
    "import numpy as np\n",
    "import pandas as pd\n",
    "from models.pitch_grader_mlp import PitchGraderMLP\n",
    "from utils.dataloader import BaseballDataset\n",
    "from utils.grader import grade_pitcher, grade_batter\n",
    "from torch.utils.data import DataLoader\n",
    "import matplotlib.pyplot as plt\n",
    "from sklearn.metrics import classification_report"
   ]
  },
  {
   "cell_type": "markdown",
   "id": "5017e5b8-fcc6-4cf1-b603-f557517360af",
   "metadata": {},
   "source": [
    "# Pitch grader"
   ]
  },
  {
   "cell_type": "markdown",
   "id": "8976800c-4719-4357-9b40-7f5729635d2e",
   "metadata": {},
   "source": [
    "## Load data\n",
    "Get the player id info mapped to embedding index"
   ]
  },
  {
   "cell_type": "code",
   "execution_count": 2,
   "id": "5b97d521-d33e-4e4e-809f-39d2fa350314",
   "metadata": {},
   "outputs": [],
   "source": [
    "with open(\"data/preprocessed/batter_map_2015_2024.json\",\"r\") as infile:\n",
    "    batter_map = json.load(infile)\n",
    "with open(\"data/preprocessed/pitcher_map_2015_2024.json\",\"r\") as infile:\n",
    "    pitcher_map = json.load(infile)"
   ]
  },
  {
   "cell_type": "code",
   "execution_count": 3,
   "id": "ff3748fa-2519-42b8-9d5d-13c5f9ba36c5",
   "metadata": {},
   "outputs": [],
   "source": [
    "pitchers = pd.read_csv(\"data/preprocessed/pitchers.csv\", index_col=False)\n",
    "batters = pd.read_csv(\"data/preprocessed/batters.csv\", index_col=False)"
   ]
  },
  {
   "cell_type": "markdown",
   "id": "a66f5b26-5cd9-4fa7-b439-f623262d5e44",
   "metadata": {},
   "source": [
    "Load the validation pitch data from 2024"
   ]
  },
  {
   "cell_type": "code",
   "execution_count": 4,
   "id": "33e487dc-1c67-4560-b21a-71af86aac458",
   "metadata": {},
   "outputs": [],
   "source": [
    "x_data_file = \"data/preprocessed/X_val_norm.npy\"\n",
    "y_data_file = \"data/preprocessed/Y_val.npy\""
   ]
  },
  {
   "cell_type": "code",
   "execution_count": 5,
   "id": "0a8295eb-56e0-4bb9-a343-fc7d106c885a",
   "metadata": {},
   "outputs": [],
   "source": [
    "full_dataset = BaseballDataset(\n",
    "    x_data_file,\n",
    "    y_data_file\n",
    ")\n",
    "test_loader = DataLoader(full_dataset, batch_size=512, shuffle=False, num_workers=4)"
   ]
  },
  {
   "cell_type": "markdown",
   "id": "7d12f8a0-f9a5-4b6f-b46c-2aec63cf8e1f",
   "metadata": {},
   "source": [
    "# Load model\n",
    "Instantiate our pitch grading MLP model with the same parameters as during training"
   ]
  },
  {
   "cell_type": "code",
   "execution_count": 13,
   "id": "b849d007-8805-4232-8156-c500fae60ca3",
   "metadata": {},
   "outputs": [],
   "source": [
    "hidden_dim = 64\n",
    "pitch_features = full_dataset[0][0].shape[0]\n",
    "output_dim = 3\n",
    "batch_size = 512\n",
    "epochs = 100\n",
    "device = 'cuda'\n",
    "train_split = 0.8\n",
    "test_split = 0.2\n",
    "learning_rate = 0.001\n",
    "verbose = True\n",
    "\n",
    "model = PitchGraderMLP(\n",
    "    pitch_features,\n",
    "    len(batters), len(pitchers),\n",
    "    hidden_dim,\n",
    "    output_dim\n",
    ")"
   ]
  },
  {
   "cell_type": "markdown",
   "id": "0114a86a-fa95-44fd-a0f3-0703ed20c2df",
   "metadata": {},
   "source": [
    "Load our checkpoint after training"
   ]
  },
  {
   "cell_type": "code",
   "execution_count": 14,
   "id": "bf9c5b75-285c-4e76-be78-1f47761378be",
   "metadata": {},
   "outputs": [],
   "source": [
    "model.load_state_dict(torch.load('models/checkpoints/pitch_grader_500.pt'))\n",
    "model = model.to(device)\n",
    "model.device = device"
   ]
  },
  {
   "cell_type": "markdown",
   "id": "1865f916-d0b9-4364-ac3b-427ef6494140",
   "metadata": {},
   "source": [
    "# Evaluation\n",
    "Evaluate the model on the test dataset and print the classification report\n",
    "\n",
    "Our classes are {0: strike, 1: ball, 2: in-play}"
   ]
  },
  {
   "cell_type": "code",
   "execution_count": 15,
   "id": "00bac1d7-7a0a-4f35-932a-0dbc5fdaf7e7",
   "metadata": {},
   "outputs": [
    {
     "name": "stdout",
     "output_type": "stream",
     "text": [
      "              precision    recall  f1-score   support\n",
      "\n",
      "         0.0       0.71      0.61      0.65    354608\n",
      "         1.0       0.71      0.91      0.80    272498\n",
      "         2.0       0.44      0.36      0.40    134214\n",
      "\n",
      "    accuracy                           0.67    761320\n",
      "   macro avg       0.62      0.62      0.62    761320\n",
      "weighted avg       0.66      0.67      0.66    761320\n",
      "\n"
     ]
    }
   ],
   "source": [
    "model.eval()\n",
    "with torch.no_grad():\n",
    "    total = 0\n",
    "    correct = 0\n",
    "    pred = []\n",
    "    y_test = []\n",
    "    for batch_x, batch_y in test_loader:\n",
    "        batch_x = batch_x.to(device)\n",
    "        batch_y = batch_y.to(device)\n",
    "        outputs = nn.functional.softmax(model(batch_x),dim=1)\n",
    "        predicted = torch.argmax(outputs.data, 1)\n",
    "        pred.append(predicted)\n",
    "        y_test.append(batch_y)\n",
    "        total += len(batch_y)\n",
    "        correct += (predicted == batch_y).sum().item()\n",
    "# move from GPU to CPU\n",
    "y_test = np.concatenate([p.cpu().numpy() for p in y_test])\n",
    "pred = np.concatenate([p.cpu().numpy() for p in pred])\n",
    "print(classification_report(y_test,pred))"
   ]
  },
  {
   "cell_type": "markdown",
   "id": "bfad01d7-2614-446b-92fc-0b228ff21fbd",
   "metadata": {},
   "source": [
    "Not surprisingly we can predict balls very well, as this can be largely determined by the 'zone' feature. For most classification tasks we would consider a f1-score of 0.4 is quite poor, predicting whether a pitch will be put in play is a very difficult task with a lot of variables outside the pitch itself. We consider this acceptable for now and will further evaluate by analyzing correlation with other known statistics."
   ]
  },
  {
   "cell_type": "markdown",
   "id": "4f1c1f8f-bcbd-45f5-83ef-7e151b7d95b4",
   "metadata": {},
   "source": [
    "# Grade players pitches"
   ]
  },
  {
   "cell_type": "markdown",
   "id": "bd61a610-4f9b-443e-a946-406226c4117a",
   "metadata": {},
   "source": [
    "We train the model to classify pitch outcomes to force the model to learn something about the quality of the pitches. \n",
    "\n",
    "We don't really care about the accuracy of predicting pitch outcomes, we care that the model can give us a good assessment of the quality, or hittability, of the pitches."
   ]
  },
  {
   "cell_type": "markdown",
   "id": "72ecf1cd-51f5-4991-82ae-6ca897453d6c",
   "metadata": {},
   "source": [
    "## Grade each player's pitches\n",
    "For each player's pitches compute the average probability of their pitches being classified as ball, strike, or in-play."
   ]
  },
  {
   "cell_type": "code",
   "execution_count": 16,
   "id": "f97d495c-2125-401b-b0c8-91adba7875f5",
   "metadata": {},
   "outputs": [],
   "source": [
    "df = pd.read_csv(\"data/statcast/2015-2024_preproc_pitch_outcomes.csv\",index_col=False)\n",
    "df['game_date'] = pd.to_datetime(df['game_date'])\n",
    "X_min = pd.read_csv(\"data/preprocessed/X_min.csv\",header=None,index_col=0)[1]\n",
    "X_max = pd.read_csv(\"data/preprocessed/X_max.csv\",header=None,index_col=0)[1]\n",
    "pitch_features = [\n",
    "    'batter','pitcher','release_pos_y','release_pos_z',\n",
    "    'release_spin_rate','effective_speed','sz_top','sz_bot',\n",
    "    'ay','plate_z','pfx_z','zone','arm_angle','api_break_x_arm',\n",
    "    'api_break_x_batter_in','previous_pitch_speed','previous_zone',\n",
    "    'previous_plate_z','balls','strikes'\n",
    "]\n",
    "start_year = 2015\n",
    "end_year = 2024"
   ]
  },
  {
   "cell_type": "code",
   "execution_count": 17,
   "id": "b9a41cdc-6302-42ff-8cd9-06ed4740b96b",
   "metadata": {
    "scrolled": true
   },
   "outputs": [],
   "source": [
    "pitcher_grades = {\n",
    "    pitcher:{} for pitcher in pitcher_map.keys()\n",
    "}\n",
    "for year in range(start_year,end_year + 1):\n",
    "    df_year = df[df['game_date'].dt.year == year]\n",
    "    for pitcher in pitcher_map.keys():\n",
    "        grades = grade_pitcher(\n",
    "            model,df_year,pitcher_map[pitcher],pitch_features,X_min,X_max,\n",
    "        )\n",
    "        pitcher_grades[pitcher][year] =  {\n",
    "                \"strikes\":torch.mean(grades[:,0],dim=0).item(),\n",
    "                \"balls\":torch.mean(grades[:,1],dim=0).item(),\n",
    "                \"in-play\":torch.mean(grades[:,2],dim=0).item()\n",
    "        }"
   ]
  },
  {
   "cell_type": "code",
   "execution_count": 18,
   "id": "47f28396-6800-4397-aa34-8d2f86847298",
   "metadata": {},
   "outputs": [],
   "source": [
    "batter_grades = {\n",
    "    batter:{} for batter in batter_map.keys()\n",
    "}\n",
    "for year in range(start_year,end_year + 1):\n",
    "    df_year = df[df['game_date'].dt.year == year]\n",
    "    for batter in list(batter_map.keys()):\n",
    "        grades = grade_batter(\n",
    "            model,df_year,batter_map[batter],pitch_features,X_min,X_max\n",
    "            #model_embed,df_year,batter_map[batter],pitch_features,X_min,X_max,embed=True\n",
    "\n",
    "        )\n",
    "        batter_grades[batter][year] =  {\n",
    "                \"strikes\":torch.mean(grades[:,0],dim=0).item(),\n",
    "                \"balls\":torch.mean(grades[:,1],dim=0).item(),\n",
    "                \"in-play\":torch.mean(grades[:,2],dim=0).item()\n",
    "        }"
   ]
  },
  {
   "cell_type": "markdown",
   "id": "334da2ba-cc90-468d-a57f-0bc90095b079",
   "metadata": {},
   "source": [
    "# Analyze results of pitch grading"
   ]
  },
  {
   "cell_type": "markdown",
   "id": "a33f7cdc-8fdc-4ccd-977f-f67bd778fc32",
   "metadata": {},
   "source": [
    "## Add classical stats and build DataFrame"
   ]
  },
  {
   "cell_type": "code",
   "execution_count": 19,
   "id": "4d597841-7b9f-4ed6-b098-3f8b5ff5c1d1",
   "metadata": {},
   "outputs": [],
   "source": [
    "pitchers['fullname'] = pitchers.name_first + \" \" + pitchers.name_last\n",
    "batters['fullname'] = batters.name_first + \" \" + batters.name_last\n",
    "\n",
    "p_df = pd.DataFrame.from_dict(pitcher_grades,orient='index')\n",
    "p_df = p_df.stack().apply(pd.Series).reset_index()\n",
    "p_df.columns = ['key_mlbam', 'year', 'Strikes', 'Balls', 'In-play']\n",
    "p_df.key_mlbam = p_df.key_mlbam.astype(np.int64)\n",
    "p_df = p_df.join(pitchers.set_index('key_mlbam'), on='key_mlbam')\n",
    "\n",
    "b_df = pd.DataFrame.from_dict(batter_grades,orient='index')\n",
    "b_df = b_df.stack().apply(pd.Series).reset_index()\n",
    "b_df.columns = ['key_mlbam', 'year', 'Strikes', 'Balls', 'In-play']\n",
    "b_df.key_mlbam = b_df.key_mlbam.astype(np.int64)\n",
    "b_df = b_df.join(batters.set_index('key_mlbam'), on='key_mlbam')\n"
   ]
  },
  {
   "cell_type": "code",
   "execution_count": 20,
   "id": "8c7d3e6a-d4a4-46eb-a5ca-d48c12ea102f",
   "metadata": {},
   "outputs": [],
   "source": [
    "ps = pd.read_csv('data/stats/pitching_stats_2015_2024.csv',index_col=False)\n",
    "ps.rename(columns={'mlbID':'key_mlbam'},inplace=True)\n",
    "p_df = pd.merge(p_df, ps, on=['key_mlbam', 'year'], how='inner')\n",
    "p_df['h_per_ip'] = p_df['H'] / p_df['IP']\n",
    "p_df['bb_per_ip'] = p_df['BB'] / p_df['IP']\n",
    "p_df['Hittability'] = p_df['In-play'] / p_df['Strikes']\n",
    "p_df['ERA'] = p_df.ERA.map(lambda x: 5 if x > 5 else x)\n",
    "p_df['WHIP'] = p_df.WHIP.map(lambda x: 5 if x > 5 else x)\n",
    "p_df['bb_per_ip'] = p_df.bb_per_ip.map(lambda x: 5 if x > 5 else x)\n",
    "p_df['h_per_ip'] = p_df.h_per_ip.map(lambda x: 5 if x > 5 else x)\n",
    "p_df.dropna(inplace=True)\n",
    "p_df = p_df[p_df['IP'] > 50]"
   ]
  },
  {
   "cell_type": "code",
   "execution_count": 21,
   "id": "72854526-e793-450a-8469-01f0d09a5033",
   "metadata": {},
   "outputs": [],
   "source": [
    "bs = pd.read_csv(\"data/stats/batting_stats_2015_2024.csv\",index_col=False)\n",
    "bs.rename(columns={'mlbID':'key_mlbam'},inplace=True)\n",
    "b_df = pd.merge(b_df, bs, on=['key_mlbam', 'year'], how='inner')\n",
    "b_df['so_per_pa'] = b_df['SO'] / b_df['PA']\n",
    "b_df['hr_per_pa'] = b_df['HR'] / b_df['PA']\n",
    "b_df['Hittability'] = b_df['In-play'] / b_df['Strikes']\n",
    "aggregates = b_df.groupby('key_mlbam').agg({'H':\"sum\",\"AB\":\"sum\"})\n",
    "aggregates['BA_total'] = aggregates['H'] / aggregates['AB']\n",
    "b_df = b_df.join(aggregates.drop([\"H\",\"AB\"],axis=1),on='key_mlbam')\n",
    "b_df['Handedness'] = b_df['Bats'].map(lambda x: 1 if x.strip() == 'Right' else 0)\n",
    "b_df.dropna(inplace=True)\n",
    "b_df = b_df[b_df['PA'] > 400]"
   ]
  },
  {
   "cell_type": "markdown",
   "id": "fe4741c5-5eb8-410c-a8cb-01f206b6af26",
   "metadata": {},
   "source": [
    "## Verify our model with correlation analysis\n",
    "We expect our model to learn a latent understanding of the hittability of a pitch, we see how well it correlates to well-known stats to see if it learned what we intended.\n",
    "\n",
    "Due to the nature of baseball and the unpredictability involved, we consider a correlation (pearson coefficient) around +-0.25 to be a strong relationship and a correlation above +-0.1 to be a moderate relationship"
   ]
  },
  {
   "cell_type": "markdown",
   "id": "f6761ee6-aecf-4e72-885d-6629311d4ccf",
   "metadata": {},
   "source": [
    "### Pitcher analysis\n",
    "We expect pitchers with high 'Strikes' score to get a lot of swing and misses and correlate with the strikeouts per 9 innings (SO9)\n",
    "\n",
    "We observe a strong negative correlation between average pitch hittability and strikeouts per 9 innings, this matches our expectation"
   ]
  },
  {
   "cell_type": "code",
   "execution_count": 35,
   "id": "4fd6c819-8ddf-4039-a208-36f7e4dab45f",
   "metadata": {},
   "outputs": [
    {
     "data": {
      "text/plain": [
       "np.float64(0.5083266154578803)"
      ]
     },
     "execution_count": 35,
     "metadata": {},
     "output_type": "execute_result"
    }
   ],
   "source": [
    "p_df['Strikes'].corr(p_df['SO9'])"
   ]
  },
  {
   "cell_type": "markdown",
   "id": "03757aae-ea71-48cb-ad88-864dac2776c0",
   "metadata": {},
   "source": [
    "We expect pitchers with high 'balls' score to walk a lot of batters, let's look at their walks per inning\n",
    "\n",
    "We observe a strong positive correlation between the average balls score and the number of walks per inning, this matches our expectation"
   ]
  },
  {
   "cell_type": "code",
   "execution_count": 31,
   "id": "89b4b158-04de-4196-8d29-26d43339ecc2",
   "metadata": {},
   "outputs": [
    {
     "data": {
      "text/plain": [
       "np.float64(0.40584589957216427)"
      ]
     },
     "execution_count": 31,
     "metadata": {},
     "output_type": "execute_result"
    }
   ],
   "source": [
    "p_df['Balls'].corr(p_df['bb_per_ip'])"
   ]
  },
  {
   "cell_type": "markdown",
   "id": "baf6a7c6-a8b1-4c58-bc14-d89bf4b96c9b",
   "metadata": {},
   "source": [
    "We expect pitcher's who throw a lot of pitches that are put in play should give up more hits\n",
    "\n",
    "We observe a strong positive correlation between the average hittability score and the number of hits per inning, this matches our expectation"
   ]
  },
  {
   "cell_type": "code",
   "execution_count": 37,
   "id": "7a854ca2-9b02-4146-a6ae-4af03757e436",
   "metadata": {},
   "outputs": [
    {
     "data": {
      "text/plain": [
       "np.float64(0.303481883459113)"
      ]
     },
     "execution_count": 37,
     "metadata": {},
     "output_type": "execute_result"
    }
   ],
   "source": [
    "p_df['In-play'].corr(p_df['h_per_ip'])"
   ]
  },
  {
   "cell_type": "markdown",
   "id": "4c91fe2b-21d3-4693-897f-068c5100378b",
   "metadata": {},
   "source": [
    "We define hittability as the ratio of 'In-play' score to 'Strikes' score. Intuitively we can understand it as what percentage of pitches around the strike zone are likely to be put in play.\n",
    "\n",
    "We sort by hittability and view the top 5 and bottom 5 pitchers, notice the SO9 for the top 5 vs the bottom 5"
   ]
  },
  {
   "cell_type": "code",
   "execution_count": 33,
   "id": "7dd31b0f-6b52-42d3-aebe-151e08c0eed2",
   "metadata": {},
   "outputs": [
    {
     "data": {
      "text/html": [
       "<div>\n",
       "<style scoped>\n",
       "    .dataframe tbody tr th:only-of-type {\n",
       "        vertical-align: middle;\n",
       "    }\n",
       "\n",
       "    .dataframe tbody tr th {\n",
       "        vertical-align: top;\n",
       "    }\n",
       "\n",
       "    .dataframe thead th {\n",
       "        text-align: right;\n",
       "    }\n",
       "</style>\n",
       "<table border=\"1\" class=\"dataframe\">\n",
       "  <thead>\n",
       "    <tr style=\"text-align: right;\">\n",
       "      <th></th>\n",
       "      <th>name_last</th>\n",
       "      <th>name_first</th>\n",
       "      <th>Hittability</th>\n",
       "      <th>SO9</th>\n",
       "    </tr>\n",
       "  </thead>\n",
       "  <tbody>\n",
       "    <tr>\n",
       "      <th>4046</th>\n",
       "      <td>kopech</td>\n",
       "      <td>michael</td>\n",
       "      <td>0.327511</td>\n",
       "      <td>11.5</td>\n",
       "    </tr>\n",
       "    <tr>\n",
       "      <th>1174</th>\n",
       "      <td>kimbrel</td>\n",
       "      <td>craig</td>\n",
       "      <td>0.352990</td>\n",
       "      <td>14.1</td>\n",
       "    </tr>\n",
       "    <tr>\n",
       "      <th>3544</th>\n",
       "      <td>hader</td>\n",
       "      <td>josh</td>\n",
       "      <td>0.366958</td>\n",
       "      <td>12.9</td>\n",
       "    </tr>\n",
       "    <tr>\n",
       "      <th>4388</th>\n",
       "      <td>díaz</td>\n",
       "      <td>alexis</td>\n",
       "      <td>0.371905</td>\n",
       "      <td>11.7</td>\n",
       "    </tr>\n",
       "    <tr>\n",
       "      <th>3543</th>\n",
       "      <td>hader</td>\n",
       "      <td>josh</td>\n",
       "      <td>0.375769</td>\n",
       "      <td>13.6</td>\n",
       "    </tr>\n",
       "    <tr>\n",
       "      <th>...</th>\n",
       "      <td>...</td>\n",
       "      <td>...</td>\n",
       "      <td>...</td>\n",
       "      <td>...</td>\n",
       "    </tr>\n",
       "    <tr>\n",
       "      <th>188</th>\n",
       "      <td>kintzler</td>\n",
       "      <td>brandon</td>\n",
       "      <td>0.883140</td>\n",
       "      <td>6.4</td>\n",
       "    </tr>\n",
       "    <tr>\n",
       "      <th>3565</th>\n",
       "      <td>suárez</td>\n",
       "      <td>ranger</td>\n",
       "      <td>0.911490</td>\n",
       "      <td>9.1</td>\n",
       "    </tr>\n",
       "    <tr>\n",
       "      <th>1058</th>\n",
       "      <td>alexander</td>\n",
       "      <td>scott</td>\n",
       "      <td>0.920258</td>\n",
       "      <td>7.6</td>\n",
       "    </tr>\n",
       "    <tr>\n",
       "      <th>439</th>\n",
       "      <td>price</td>\n",
       "      <td>david</td>\n",
       "      <td>0.932272</td>\n",
       "      <td>7.1</td>\n",
       "    </tr>\n",
       "    <tr>\n",
       "      <th>3910</th>\n",
       "      <td>rogers</td>\n",
       "      <td>tyler</td>\n",
       "      <td>1.069879</td>\n",
       "      <td>6.0</td>\n",
       "    </tr>\n",
       "  </tbody>\n",
       "</table>\n",
       "<p>861 rows × 4 columns</p>\n",
       "</div>"
      ],
      "text/plain": [
       "      name_last name_first  Hittability   SO9\n",
       "4046     kopech    michael     0.327511  11.5\n",
       "1174    kimbrel      craig     0.352990  14.1\n",
       "3544      hader       josh     0.366958  12.9\n",
       "4388       díaz     alexis     0.371905  11.7\n",
       "3543      hader       josh     0.375769  13.6\n",
       "...         ...        ...          ...   ...\n",
       "188    kintzler    brandon     0.883140   6.4\n",
       "3565     suárez     ranger     0.911490   9.1\n",
       "1058  alexander      scott     0.920258   7.6\n",
       "439       price      david     0.932272   7.1\n",
       "3910     rogers      tyler     1.069879   6.0\n",
       "\n",
       "[861 rows x 4 columns]"
      ]
     },
     "execution_count": 33,
     "metadata": {},
     "output_type": "execute_result"
    }
   ],
   "source": [
    "p_df.sort_values(by='Hittability',inplace=True)\n",
    "p_df[['name_last','name_first','Hittability','SO9']]"
   ]
  },
  {
   "cell_type": "markdown",
   "id": "ed84c72e-afd8-40e4-87f0-0bdec69f099b",
   "metadata": {},
   "source": [
    "### Batter analysis\n",
    "Let's look further at how these pitches impact the batters, we expect very good power hitters would get fewer hittable pitches. We will use the HR for a season to approximate good power hitters.\n",
    "\n",
    "We observe a moderate negative correlation between HR and hittability, indicating that good power hitters may see fewer hittable pitches"
   ]
  },
  {
   "cell_type": "code",
   "execution_count": 26,
   "id": "fe413243-dee1-4372-9949-425dccc3a439",
   "metadata": {},
   "outputs": [
    {
     "data": {
      "text/plain": [
       "np.float64(-0.19715543396133325)"
      ]
     },
     "execution_count": 26,
     "metadata": {},
     "output_type": "execute_result"
    }
   ],
   "source": [
    "b_df['Hittability'].corr(b_df['HR'])"
   ]
  },
  {
   "cell_type": "markdown",
   "id": "14687864-6765-4246-91f2-7e6e2953fb9a",
   "metadata": {},
   "source": [
    "We expect hitters who lay down a lot of bunts are likely not as feared and may get more hittable pitches\n",
    "\n",
    "We observe a moderate positive correlation between sacrifice bunts and hittability score"
   ]
  },
  {
   "cell_type": "code",
   "execution_count": 27,
   "id": "76b58fd4-a29f-46f4-8da6-15a0602f13e5",
   "metadata": {},
   "outputs": [
    {
     "data": {
      "text/plain": [
       "np.float64(0.1575090698272386)"
      ]
     },
     "execution_count": 27,
     "metadata": {},
     "output_type": "execute_result"
    }
   ],
   "source": [
    "b_df['Hittability'].corr(b_df['SH'])"
   ]
  },
  {
   "cell_type": "markdown",
   "id": "7861cf23-32e7-4932-b756-de5bc962ea92",
   "metadata": {},
   "source": [
    "Now we sort by hittability and view the top 5 and bottom 5 pitchers, notice the HR and SLG for the top 5 vs the bottom 5"
   ]
  },
  {
   "cell_type": "code",
   "execution_count": 38,
   "id": "731d5033-28af-45b7-a16d-824e763f3c2c",
   "metadata": {},
   "outputs": [
    {
     "data": {
      "text/html": [
       "<div>\n",
       "<style scoped>\n",
       "    .dataframe tbody tr th:only-of-type {\n",
       "        vertical-align: middle;\n",
       "    }\n",
       "\n",
       "    .dataframe tbody tr th {\n",
       "        vertical-align: top;\n",
       "    }\n",
       "\n",
       "    .dataframe thead th {\n",
       "        text-align: right;\n",
       "    }\n",
       "</style>\n",
       "<table border=\"1\" class=\"dataframe\">\n",
       "  <thead>\n",
       "    <tr style=\"text-align: right;\">\n",
       "      <th></th>\n",
       "      <th>year</th>\n",
       "      <th>name_last</th>\n",
       "      <th>name_first</th>\n",
       "      <th>BA</th>\n",
       "      <th>SLG</th>\n",
       "      <th>HR</th>\n",
       "      <th>Hittability</th>\n",
       "    </tr>\n",
       "  </thead>\n",
       "  <tbody>\n",
       "    <tr>\n",
       "      <th>2692</th>\n",
       "      <td>2024</td>\n",
       "      <td>seager</td>\n",
       "      <td>corey</td>\n",
       "      <td>0.278</td>\n",
       "      <td>0.512</td>\n",
       "      <td>30</td>\n",
       "      <td>0.200747</td>\n",
       "    </tr>\n",
       "    <tr>\n",
       "      <th>2049</th>\n",
       "      <td>2024</td>\n",
       "      <td>judge</td>\n",
       "      <td>aaron</td>\n",
       "      <td>0.311</td>\n",
       "      <td>0.678</td>\n",
       "      <td>61</td>\n",
       "      <td>0.229150</td>\n",
       "    </tr>\n",
       "    <tr>\n",
       "      <th>3552</th>\n",
       "      <td>2024</td>\n",
       "      <td>wong</td>\n",
       "      <td>connor</td>\n",
       "      <td>0.280</td>\n",
       "      <td>0.425</td>\n",
       "      <td>13</td>\n",
       "      <td>0.266880</td>\n",
       "    </tr>\n",
       "    <tr>\n",
       "      <th>2691</th>\n",
       "      <td>2023</td>\n",
       "      <td>seager</td>\n",
       "      <td>corey</td>\n",
       "      <td>0.326</td>\n",
       "      <td>0.630</td>\n",
       "      <td>39</td>\n",
       "      <td>0.289148</td>\n",
       "    </tr>\n",
       "    <tr>\n",
       "      <th>2690</th>\n",
       "      <td>2022</td>\n",
       "      <td>seager</td>\n",
       "      <td>corey</td>\n",
       "      <td>0.245</td>\n",
       "      <td>0.455</td>\n",
       "      <td>33</td>\n",
       "      <td>0.304270</td>\n",
       "    </tr>\n",
       "    <tr>\n",
       "      <th>...</th>\n",
       "      <td>...</td>\n",
       "      <td>...</td>\n",
       "      <td>...</td>\n",
       "      <td>...</td>\n",
       "      <td>...</td>\n",
       "      <td>...</td>\n",
       "      <td>...</td>\n",
       "    </tr>\n",
       "    <tr>\n",
       "      <th>1420</th>\n",
       "      <td>2015</td>\n",
       "      <td>strange-gordon</td>\n",
       "      <td>dee</td>\n",
       "      <td>0.333</td>\n",
       "      <td>0.418</td>\n",
       "      <td>4</td>\n",
       "      <td>0.786084</td>\n",
       "    </tr>\n",
       "    <tr>\n",
       "      <th>2501</th>\n",
       "      <td>2015</td>\n",
       "      <td>panik</td>\n",
       "      <td>joe</td>\n",
       "      <td>0.312</td>\n",
       "      <td>0.455</td>\n",
       "      <td>8</td>\n",
       "      <td>0.792935</td>\n",
       "    </tr>\n",
       "    <tr>\n",
       "      <th>3178</th>\n",
       "      <td>2021</td>\n",
       "      <td>hampson</td>\n",
       "      <td>garrett</td>\n",
       "      <td>0.234</td>\n",
       "      <td>0.380</td>\n",
       "      <td>11</td>\n",
       "      <td>0.796280</td>\n",
       "    </tr>\n",
       "    <tr>\n",
       "      <th>1925</th>\n",
       "      <td>2015</td>\n",
       "      <td>gyorko</td>\n",
       "      <td>jedd</td>\n",
       "      <td>0.247</td>\n",
       "      <td>0.397</td>\n",
       "      <td>16</td>\n",
       "      <td>0.823698</td>\n",
       "    </tr>\n",
       "    <tr>\n",
       "      <th>1174</th>\n",
       "      <td>2015</td>\n",
       "      <td>inciarte</td>\n",
       "      <td>ender</td>\n",
       "      <td>0.303</td>\n",
       "      <td>0.408</td>\n",
       "      <td>6</td>\n",
       "      <td>0.841735</td>\n",
       "    </tr>\n",
       "  </tbody>\n",
       "</table>\n",
       "<p>1806 rows × 7 columns</p>\n",
       "</div>"
      ],
      "text/plain": [
       "      year       name_last name_first     BA    SLG  HR  Hittability\n",
       "2692  2024          seager      corey  0.278  0.512  30     0.200747\n",
       "2049  2024           judge      aaron  0.311  0.678  61     0.229150\n",
       "3552  2024            wong     connor  0.280  0.425  13     0.266880\n",
       "2691  2023          seager      corey  0.326  0.630  39     0.289148\n",
       "2690  2022          seager      corey  0.245  0.455  33     0.304270\n",
       "...    ...             ...        ...    ...    ...  ..          ...\n",
       "1420  2015  strange-gordon        dee  0.333  0.418   4     0.786084\n",
       "2501  2015           panik        joe  0.312  0.455   8     0.792935\n",
       "3178  2021         hampson    garrett  0.234  0.380  11     0.796280\n",
       "1925  2015          gyorko       jedd  0.247  0.397  16     0.823698\n",
       "1174  2015        inciarte      ender  0.303  0.408   6     0.841735\n",
       "\n",
       "[1806 rows x 7 columns]"
      ]
     },
     "execution_count": 38,
     "metadata": {},
     "output_type": "execute_result"
    }
   ],
   "source": [
    "b_df.sort_values(by='Hittability',inplace=True)\n",
    "b_df[['year','name_last','name_first','BA','SLG','HR','Hittability']]"
   ]
  },
  {
   "cell_type": "markdown",
   "id": "b53e60d4-4afd-4474-b30d-85ad502e3e39",
   "metadata": {},
   "source": [
    "# Adjusted Batting Average"
   ]
  },
  {
   "cell_type": "markdown",
   "id": "708dd752-e75a-4fc1-861d-f71116cbb92a",
   "metadata": {},
   "source": [
    "The main idea for adjusting a player's batting average is to account for the average difficulty of pitches they faced. We expect a batter that faced harder pitches to have a lower batting average, so we will adjust it upwards to reflect their true skill. Similarly, we will adjust the batting average downwards for batters that faced easier pitches. \n",
    "\n",
    "We can apply this same idea to adjust other relevant batting statistic. "
   ]
  },
  {
   "cell_type": "markdown",
   "id": "99dd60f2-62f4-430c-9e04-eb13cd114518",
   "metadata": {},
   "source": [
    "We build a regression model where a batter's actual batting average is the dependent variable, and the hittability score is an independent variable, along with other factors that influence batting average as control variables (i.e. handedness, batter age, and ball score). "
   ]
  },
  {
   "cell_type": "code",
   "execution_count": 39,
   "id": "67f16662-7c88-4b3d-9bab-3007699c7a32",
   "metadata": {},
   "outputs": [
    {
     "data": {
      "text/plain": [
       "np.float64(0.0738124636327642)"
      ]
     },
     "execution_count": 39,
     "metadata": {},
     "output_type": "execute_result"
    }
   ],
   "source": [
    "import statsmodels.formula.api as smf\n",
    "model = smf.ols('BA ~ Hittability + BA_total + C(Bats) + Balls + Age', data=b_df).fit()\n",
    "model.params['Hittability']"
   ]
  },
  {
   "cell_type": "markdown",
   "id": "8035ad7b-f740-401c-9e12-d2f4b9d9a666",
   "metadata": {},
   "source": [
    "To remove the effect of the average pitch hittability, we substract/add from the actual batting average the portion that can be explained by them facing pitchers that were easier/tougher than the league average. "
   ]
  },
  {
   "cell_type": "code",
   "execution_count": 40,
   "id": "bc306909-4b44-4569-9e79-39c54e71c8d9",
   "metadata": {},
   "outputs": [],
   "source": [
    "beta_hittability = model.params['Hittability']\n",
    "b_df['adjusted_ba'] = b_df['BA'] - \\\n",
    "                    (beta_hittability * (b_df['Hittability'] - b_df['Hittability'].mean()))"
   ]
  },
  {
   "cell_type": "markdown",
   "id": "398c2962-22ec-44f8-a5b7-72d554a64ab3",
   "metadata": {},
   "source": [
    "Now we get the level of adjustment and the range of adjustment is made for a player across seasons"
   ]
  },
  {
   "cell_type": "code",
   "execution_count": 41,
   "id": "3935aae6-4877-40a5-9fe7-092abcee4444",
   "metadata": {},
   "outputs": [],
   "source": [
    "b_df['adjustment_diff'] = b_df['adjusted_ba'] - b_df['BA']\n",
    "maxes = b_df.groupby('key_mlbam')['adjustment_diff'].max()\n",
    "mins = b_df.groupby('key_mlbam')['adjustment_diff'].min()\n",
    "diffs = pd.DataFrame(maxes - mins)\n",
    "diffs.rename(columns={'adjustment_diff':'adjustment_range'},inplace=True)\n",
    "b_df = pd.merge(b_df, diffs, on=['key_mlbam'], how='left')"
   ]
  },
  {
   "cell_type": "markdown",
   "id": "c1ff4693-7919-4638-81cd-186d774a3470",
   "metadata": {},
   "source": [
    "The level of adjustment can be used to identify batters who are seeing abnormal amounts of hittable pitches\n",
    "\n",
    "We observe the top 5 and bottom 5 player seasons based on batting average adjustment:"
   ]
  },
  {
   "cell_type": "code",
   "execution_count": 55,
   "id": "e4bb0e9a-b27c-474c-a8e4-21dc7d829062",
   "metadata": {},
   "outputs": [
    {
     "data": {
      "text/html": [
       "<div>\n",
       "<style scoped>\n",
       "    .dataframe tbody tr th:only-of-type {\n",
       "        vertical-align: middle;\n",
       "    }\n",
       "\n",
       "    .dataframe tbody tr th {\n",
       "        vertical-align: top;\n",
       "    }\n",
       "\n",
       "    .dataframe thead th {\n",
       "        text-align: right;\n",
       "    }\n",
       "</style>\n",
       "<table border=\"1\" class=\"dataframe\">\n",
       "  <thead>\n",
       "    <tr style=\"text-align: right;\">\n",
       "      <th></th>\n",
       "      <th>key_mlbam</th>\n",
       "      <th>year</th>\n",
       "      <th>name_last</th>\n",
       "      <th>name_first</th>\n",
       "      <th>Hittability</th>\n",
       "      <th>BA</th>\n",
       "      <th>BA_total</th>\n",
       "      <th>adjusted_ba</th>\n",
       "      <th>adjustment_diff</th>\n",
       "    </tr>\n",
       "  </thead>\n",
       "  <tbody>\n",
       "    <tr>\n",
       "      <th>1805</th>\n",
       "      <td>542255</td>\n",
       "      <td>2015</td>\n",
       "      <td>inciarte</td>\n",
       "      <td>ender</td>\n",
       "      <td>0.841735</td>\n",
       "      <td>0.303</td>\n",
       "      <td>0.280384</td>\n",
       "      <td>0.287296</td>\n",
       "      <td>-0.015704</td>\n",
       "    </tr>\n",
       "    <tr>\n",
       "      <th>1804</th>\n",
       "      <td>576397</td>\n",
       "      <td>2015</td>\n",
       "      <td>gyorko</td>\n",
       "      <td>jedd</td>\n",
       "      <td>0.823698</td>\n",
       "      <td>0.247</td>\n",
       "      <td>0.251245</td>\n",
       "      <td>0.232627</td>\n",
       "      <td>-0.014373</td>\n",
       "    </tr>\n",
       "    <tr>\n",
       "      <th>1803</th>\n",
       "      <td>641658</td>\n",
       "      <td>2021</td>\n",
       "      <td>hampson</td>\n",
       "      <td>garrett</td>\n",
       "      <td>0.796280</td>\n",
       "      <td>0.234</td>\n",
       "      <td>0.241228</td>\n",
       "      <td>0.221651</td>\n",
       "      <td>-0.012349</td>\n",
       "    </tr>\n",
       "    <tr>\n",
       "      <th>1802</th>\n",
       "      <td>605412</td>\n",
       "      <td>2015</td>\n",
       "      <td>panik</td>\n",
       "      <td>joe</td>\n",
       "      <td>0.792935</td>\n",
       "      <td>0.312</td>\n",
       "      <td>0.259466</td>\n",
       "      <td>0.299898</td>\n",
       "      <td>-0.012102</td>\n",
       "    </tr>\n",
       "    <tr>\n",
       "      <th>1801</th>\n",
       "      <td>543829</td>\n",
       "      <td>2015</td>\n",
       "      <td>strange-gordon</td>\n",
       "      <td>dee</td>\n",
       "      <td>0.786084</td>\n",
       "      <td>0.333</td>\n",
       "      <td>0.292492</td>\n",
       "      <td>0.321403</td>\n",
       "      <td>-0.011597</td>\n",
       "    </tr>\n",
       "    <tr>\n",
       "      <th>...</th>\n",
       "      <td>...</td>\n",
       "      <td>...</td>\n",
       "      <td>...</td>\n",
       "      <td>...</td>\n",
       "      <td>...</td>\n",
       "      <td>...</td>\n",
       "      <td>...</td>\n",
       "      <td>...</td>\n",
       "      <td>...</td>\n",
       "    </tr>\n",
       "    <tr>\n",
       "      <th>4</th>\n",
       "      <td>608369</td>\n",
       "      <td>2022</td>\n",
       "      <td>seager</td>\n",
       "      <td>corey</td>\n",
       "      <td>0.304270</td>\n",
       "      <td>0.245</td>\n",
       "      <td>0.289603</td>\n",
       "      <td>0.268967</td>\n",
       "      <td>0.023967</td>\n",
       "    </tr>\n",
       "    <tr>\n",
       "      <th>3</th>\n",
       "      <td>608369</td>\n",
       "      <td>2023</td>\n",
       "      <td>seager</td>\n",
       "      <td>corey</td>\n",
       "      <td>0.289148</td>\n",
       "      <td>0.326</td>\n",
       "      <td>0.289603</td>\n",
       "      <td>0.351083</td>\n",
       "      <td>0.025083</td>\n",
       "    </tr>\n",
       "    <tr>\n",
       "      <th>2</th>\n",
       "      <td>657136</td>\n",
       "      <td>2024</td>\n",
       "      <td>wong</td>\n",
       "      <td>connor</td>\n",
       "      <td>0.266880</td>\n",
       "      <td>0.280</td>\n",
       "      <td>0.255973</td>\n",
       "      <td>0.306727</td>\n",
       "      <td>0.026727</td>\n",
       "    </tr>\n",
       "    <tr>\n",
       "      <th>1</th>\n",
       "      <td>592450</td>\n",
       "      <td>2024</td>\n",
       "      <td>judge</td>\n",
       "      <td>aaron</td>\n",
       "      <td>0.229150</td>\n",
       "      <td>0.311</td>\n",
       "      <td>0.284971</td>\n",
       "      <td>0.340512</td>\n",
       "      <td>0.029512</td>\n",
       "    </tr>\n",
       "    <tr>\n",
       "      <th>0</th>\n",
       "      <td>608369</td>\n",
       "      <td>2024</td>\n",
       "      <td>seager</td>\n",
       "      <td>corey</td>\n",
       "      <td>0.200747</td>\n",
       "      <td>0.278</td>\n",
       "      <td>0.289603</td>\n",
       "      <td>0.309608</td>\n",
       "      <td>0.031608</td>\n",
       "    </tr>\n",
       "  </tbody>\n",
       "</table>\n",
       "<p>1806 rows × 9 columns</p>\n",
       "</div>"
      ],
      "text/plain": [
       "      key_mlbam  year       name_last name_first  Hittability     BA  \\\n",
       "1805     542255  2015        inciarte      ender     0.841735  0.303   \n",
       "1804     576397  2015          gyorko       jedd     0.823698  0.247   \n",
       "1803     641658  2021         hampson    garrett     0.796280  0.234   \n",
       "1802     605412  2015           panik        joe     0.792935  0.312   \n",
       "1801     543829  2015  strange-gordon        dee     0.786084  0.333   \n",
       "...         ...   ...             ...        ...          ...    ...   \n",
       "4        608369  2022          seager      corey     0.304270  0.245   \n",
       "3        608369  2023          seager      corey     0.289148  0.326   \n",
       "2        657136  2024            wong     connor     0.266880  0.280   \n",
       "1        592450  2024           judge      aaron     0.229150  0.311   \n",
       "0        608369  2024          seager      corey     0.200747  0.278   \n",
       "\n",
       "      BA_total  adjusted_ba  adjustment_diff  \n",
       "1805  0.280384     0.287296        -0.015704  \n",
       "1804  0.251245     0.232627        -0.014373  \n",
       "1803  0.241228     0.221651        -0.012349  \n",
       "1802  0.259466     0.299898        -0.012102  \n",
       "1801  0.292492     0.321403        -0.011597  \n",
       "...        ...          ...              ...  \n",
       "4     0.289603     0.268967         0.023967  \n",
       "3     0.289603     0.351083         0.025083  \n",
       "2     0.255973     0.306727         0.026727  \n",
       "1     0.284971     0.340512         0.029512  \n",
       "0     0.289603     0.309608         0.031608  \n",
       "\n",
       "[1806 rows x 9 columns]"
      ]
     },
     "execution_count": 55,
     "metadata": {},
     "output_type": "execute_result"
    }
   ],
   "source": [
    "b_df.sort_values(by='adjustment_diff',inplace=True)\n",
    "b_df[['key_mlbam','year','name_last','name_first','Hittability','BA','BA_total','adjusted_ba','adjustment_diff']]"
   ]
  },
  {
   "cell_type": "markdown",
   "id": "7995dc68-16af-49ed-b0c1-bca37f0bb29d",
   "metadata": {},
   "source": [
    "We see the biggest negative adjustment is for Ender Inciarte's 2015 season where he batted 303, after adjustment this falls to 287 which is close to his career average. Joe Panik and Dee Gordon have similar adjustments indicating their career-best season was partially attributable to seeing easier pitches.\n",
    "\n",
    "Jedd Gyorko and Garrett Hampson seem to be having an even worse year than their batting average indicates. One possible explanation for their high hittability score is that pitcher's see them as a quick out and don't want to waste pitches by throwing outside the strike zone. \n",
    "\n",
    "On the other side of the spectrum, Aaron Judge's impressive 2024 is even more impressive after considering how tough of pitches he is seeing. Corey Seager is not getting anything to hit after joining the Rangers"
   ]
  },
  {
   "cell_type": "markdown",
   "id": "d7cbc241-13ca-4ef0-8c60-ec2c025e16f2",
   "metadata": {},
   "source": [
    "Now we can look at the range of adjustments across players' seasons to see if there were any significant changes, possibly due to lineup change or trades.\n",
    "\n",
    "Interestingly the player with the highest adjustment range is Corey Seager, indicating his time with the Dodgers saw more favorable pitches"
   ]
  },
  {
   "cell_type": "code",
   "execution_count": 67,
   "id": "800b343b-0a46-477d-bb41-3e455a03e819",
   "metadata": {},
   "outputs": [
    {
     "data": {
      "text/html": [
       "<div>\n",
       "<style scoped>\n",
       "    .dataframe tbody tr th:only-of-type {\n",
       "        vertical-align: middle;\n",
       "    }\n",
       "\n",
       "    .dataframe tbody tr th {\n",
       "        vertical-align: top;\n",
       "    }\n",
       "\n",
       "    .dataframe thead th {\n",
       "        text-align: right;\n",
       "    }\n",
       "</style>\n",
       "<table border=\"1\" class=\"dataframe\">\n",
       "  <thead>\n",
       "    <tr style=\"text-align: right;\">\n",
       "      <th></th>\n",
       "      <th>key_mlbam</th>\n",
       "      <th>name_last</th>\n",
       "      <th>name_first</th>\n",
       "      <th>adjustment_range</th>\n",
       "    </tr>\n",
       "  </thead>\n",
       "  <tbody>\n",
       "    <tr>\n",
       "      <th>0</th>\n",
       "      <td>608369</td>\n",
       "      <td>seager</td>\n",
       "      <td>corey</td>\n",
       "      <td>0.033733</td>\n",
       "    </tr>\n",
       "  </tbody>\n",
       "</table>\n",
       "</div>"
      ],
      "text/plain": [
       "   key_mlbam name_last name_first  adjustment_range\n",
       "0     608369    seager      corey          0.033733"
      ]
     },
     "execution_count": 67,
     "metadata": {},
     "output_type": "execute_result"
    }
   ],
   "source": [
    "b_df.sort_values(by='adjustment_range',inplace=True)\n",
    "b_df[['key_mlbam','name_last','name_first','adjustment_range']][-1:]"
   ]
  },
  {
   "cell_type": "markdown",
   "id": "c273c715-3a9b-4bcf-82ee-b8e562bc89f8",
   "metadata": {},
   "source": [
    "If we look at Seager's hittability score by year, we see a noticeable drop once he moves from the Dodgers to the Rangers. He also suffered a career low in batting average in 2022, but our adjustment indicates a large part of the dropoff was due to facing harder pitches."
   ]
  },
  {
   "cell_type": "code",
   "execution_count": 72,
   "id": "9bf7544f-4ef0-4688-8edc-8b402c593d15",
   "metadata": {},
   "outputs": [
    {
     "data": {
      "text/html": [
       "<div>\n",
       "<style scoped>\n",
       "    .dataframe tbody tr th:only-of-type {\n",
       "        vertical-align: middle;\n",
       "    }\n",
       "\n",
       "    .dataframe tbody tr th {\n",
       "        vertical-align: top;\n",
       "    }\n",
       "\n",
       "    .dataframe thead th {\n",
       "        text-align: right;\n",
       "    }\n",
       "</style>\n",
       "<table border=\"1\" class=\"dataframe\">\n",
       "  <thead>\n",
       "    <tr style=\"text-align: right;\">\n",
       "      <th></th>\n",
       "      <th>year</th>\n",
       "      <th>Tm</th>\n",
       "      <th>Hittability</th>\n",
       "      <th>name_last</th>\n",
       "      <th>name_first</th>\n",
       "      <th>BA</th>\n",
       "      <th>BA_total</th>\n",
       "      <th>OPS</th>\n",
       "      <th>adjusted_ba</th>\n",
       "      <th>adjustment_diff</th>\n",
       "    </tr>\n",
       "  </thead>\n",
       "  <tbody>\n",
       "    <tr>\n",
       "      <th>505</th>\n",
       "      <td>2016</td>\n",
       "      <td>Los Angeles</td>\n",
       "      <td>0.594525</td>\n",
       "      <td>seager</td>\n",
       "      <td>corey</td>\n",
       "      <td>0.308</td>\n",
       "      <td>0.289603</td>\n",
       "      <td>0.877</td>\n",
       "      <td>0.310543</td>\n",
       "      <td>0.002543</td>\n",
       "    </tr>\n",
       "    <tr>\n",
       "      <th>824</th>\n",
       "      <td>2017</td>\n",
       "      <td>Los Angeles</td>\n",
       "      <td>0.622797</td>\n",
       "      <td>seager</td>\n",
       "      <td>corey</td>\n",
       "      <td>0.295</td>\n",
       "      <td>0.289603</td>\n",
       "      <td>0.854</td>\n",
       "      <td>0.295456</td>\n",
       "      <td>0.000456</td>\n",
       "    </tr>\n",
       "    <tr>\n",
       "      <th>1194</th>\n",
       "      <td>2019</td>\n",
       "      <td>Los Angeles</td>\n",
       "      <td>0.657179</td>\n",
       "      <td>seager</td>\n",
       "      <td>corey</td>\n",
       "      <td>0.272</td>\n",
       "      <td>0.289603</td>\n",
       "      <td>0.817</td>\n",
       "      <td>0.269918</td>\n",
       "      <td>-0.002082</td>\n",
       "    </tr>\n",
       "    <tr>\n",
       "      <th>1198</th>\n",
       "      <td>2021</td>\n",
       "      <td>Los Angeles</td>\n",
       "      <td>0.657752</td>\n",
       "      <td>seager</td>\n",
       "      <td>corey</td>\n",
       "      <td>0.292</td>\n",
       "      <td>0.289603</td>\n",
       "      <td>0.883</td>\n",
       "      <td>0.289876</td>\n",
       "      <td>-0.002124</td>\n",
       "    </tr>\n",
       "    <tr>\n",
       "      <th>4</th>\n",
       "      <td>2022</td>\n",
       "      <td>Texas</td>\n",
       "      <td>0.304270</td>\n",
       "      <td>seager</td>\n",
       "      <td>corey</td>\n",
       "      <td>0.245</td>\n",
       "      <td>0.289603</td>\n",
       "      <td>0.772</td>\n",
       "      <td>0.268967</td>\n",
       "      <td>0.023967</td>\n",
       "    </tr>\n",
       "    <tr>\n",
       "      <th>3</th>\n",
       "      <td>2023</td>\n",
       "      <td>Texas</td>\n",
       "      <td>0.289148</td>\n",
       "      <td>seager</td>\n",
       "      <td>corey</td>\n",
       "      <td>0.326</td>\n",
       "      <td>0.289603</td>\n",
       "      <td>1.028</td>\n",
       "      <td>0.351083</td>\n",
       "      <td>0.025083</td>\n",
       "    </tr>\n",
       "    <tr>\n",
       "      <th>0</th>\n",
       "      <td>2024</td>\n",
       "      <td>Texas</td>\n",
       "      <td>0.200747</td>\n",
       "      <td>seager</td>\n",
       "      <td>corey</td>\n",
       "      <td>0.278</td>\n",
       "      <td>0.289603</td>\n",
       "      <td>0.864</td>\n",
       "      <td>0.309608</td>\n",
       "      <td>0.031608</td>\n",
       "    </tr>\n",
       "  </tbody>\n",
       "</table>\n",
       "</div>"
      ],
      "text/plain": [
       "      year           Tm  Hittability name_last name_first     BA  BA_total  \\\n",
       "505   2016  Los Angeles     0.594525    seager      corey  0.308  0.289603   \n",
       "824   2017  Los Angeles     0.622797    seager      corey  0.295  0.289603   \n",
       "1194  2019  Los Angeles     0.657179    seager      corey  0.272  0.289603   \n",
       "1198  2021  Los Angeles     0.657752    seager      corey  0.292  0.289603   \n",
       "4     2022        Texas     0.304270    seager      corey  0.245  0.289603   \n",
       "3     2023        Texas     0.289148    seager      corey  0.326  0.289603   \n",
       "0     2024        Texas     0.200747    seager      corey  0.278  0.289603   \n",
       "\n",
       "        OPS  adjusted_ba  adjustment_diff  \n",
       "505   0.877     0.310543         0.002543  \n",
       "824   0.854     0.295456         0.000456  \n",
       "1194  0.817     0.269918        -0.002082  \n",
       "1198  0.883     0.289876        -0.002124  \n",
       "4     0.772     0.268967         0.023967  \n",
       "3     1.028     0.351083         0.025083  \n",
       "0     0.864     0.309608         0.031608  "
      ]
     },
     "execution_count": 72,
     "metadata": {},
     "output_type": "execute_result"
    }
   ],
   "source": [
    "b_df.sort_values(by='year',inplace=True)\n",
    "\n",
    "b_df[b_df['key_mlbam']==608369][['year','Tm','Hittability','name_last','name_first','BA','BA_total','OPS','adjusted_ba','adjustment_diff']]"
   ]
  },
  {
   "cell_type": "markdown",
   "id": "2984ee06-656b-4135-becb-70668d5215fe",
   "metadata": {},
   "source": [
    "This example illustrates how a quantified adjustment for pitch difficulty can provide more context for evaluating a player's season. "
   ]
  },
  {
   "cell_type": "markdown",
   "id": "b6a0a104-f7d7-43dc-b25a-9824ef81cc63",
   "metadata": {},
   "source": [
    "# Conclusion"
   ]
  },
  {
   "cell_type": "markdown",
   "id": "6fad7a45-190e-48d6-be9a-7779aa164af3",
   "metadata": {},
   "source": [
    "To summarize our analysis so far, we use statcast data and real outcomes to score the pitch difficulty. We show this score correlates well to a pitcher's strikeout ability which can be useful to evaluate pitcher's based solely on statcast data. Additionally, we use this score to quantify it's impact on a specific batting statistic like batting average and adjust the statistic to normalize for pitch difficulty. We look at some of the higher adjustment levels and find that it can be used to identify flukey seasons and see how a player's pitch difficulty is impacted by the team around him."
   ]
  }
 ],
 "metadata": {
  "kernelspec": {
   "display_name": "Python 3 (ipykernel)",
   "language": "python",
   "name": "python3"
  },
  "language_info": {
   "codemirror_mode": {
    "name": "ipython",
    "version": 3
   },
   "file_extension": ".py",
   "mimetype": "text/x-python",
   "name": "python",
   "nbconvert_exporter": "python",
   "pygments_lexer": "ipython3",
   "version": "3.12.9"
  }
 },
 "nbformat": 4,
 "nbformat_minor": 5
}
