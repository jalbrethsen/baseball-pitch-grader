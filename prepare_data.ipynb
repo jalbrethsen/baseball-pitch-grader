{
 "cells": [
  {
   "cell_type": "code",
   "execution_count": null,
   "id": "47a1b755-b8a8-47e9-b9cc-f89b41528c75",
   "metadata": {},
   "outputs": [],
   "source": [
    "import pandas as pd\n",
    "import numpy as np\n",
    "import json\n",
    "from pybaseball import cache, pitching_stats_bref, batting_stats_bref,playerid_reverse_lookup\n",
    "from utils.preprocess_statcast import pull_statcast_multiyear, preprocess, read_from_cache"
   ]
  },
  {
   "cell_type": "markdown",
   "id": "5f7dd79e-1f65-4d30-9827-380cf99b4064",
   "metadata": {},
   "source": [
    "# Set configuration variables\n",
    "The statcast data we want is only available after 2015, so lets get everything from then until 2024."
   ]
  },
  {
   "cell_type": "code",
   "execution_count": null,
   "id": "23604622-ae26-4c2c-b8e2-09d849af8c3c",
   "metadata": {},
   "outputs": [],
   "source": [
    "start_year = \"2015\"\n",
    "end_year = \"2024\"\n",
    "verbose = True\n",
    "# get players who have thrown or received minimum amount of pitches\n",
    "min_pitches = 5000\n",
    "# pitch features after correlation analysis with pitch outcomes\n",
    "pitch_features = [\n",
    "    'batter','pitcher','release_pos_y','release_pos_z',\n",
    "    'release_spin_rate','effective_speed','sz_top','sz_bot',\n",
    "    'ay','plate_z','pfx_z','zone','arm_angle','api_break_x_arm',\n",
    "    'api_break_x_batter_in','previous_pitch_speed','previous_zone',\n",
    "    'previous_plate_z','balls','strikes'\n",
    "]\n",
    "# outcome is either ball, strike, or in play\n",
    "outcome_features = [\"type\"]\n",
    "columns = [\n",
    "    \"game_date\", \"at_bat_number\",\"game_pk\",\"game_type\",\n",
    "    \"pitch_number\",\"release_speed\",\"pitch_type\",\"plate_x\"\n",
    "]\n",
    "columns.extend(pitch_features)\n",
    "columns.extend(outcome_features)\n",
    "# the previous pitch features are not in statcast\n",
    "statcast_columns = [col for col in columns if not col.startswith('previous')]"
   ]
  },
  {
   "cell_type": "markdown",
   "id": "e4cba242-1217-4d27-9e6a-9c6f576d7ae9",
   "metadata": {},
   "source": [
    "# Get Statcast pitch data\n",
    "We will use the pybaseball library to pull statcast data for all pitches in our year range.\n",
    "\n",
    "To avoid re-running long queries use the caching function."
   ]
  },
  {
   "cell_type": "code",
   "execution_count": null,
   "id": "2e2b2927-70f0-4eef-9fa2-7f011edf03e1",
   "metadata": {},
   "outputs": [],
   "source": [
    "# enable caching of the statcast data (saves them to disk)\n",
    "cache.enable()\n",
    "#df = pull_statcast_multiyear(start_year, end_year, columns=statcast_columns, verbose=verbose)\n",
    "# uncomment this to read from cache if previously queries\n",
    "df = read_from_cache(start_year, end_year, columns=statcast_columns,directory=\"/home/justin/.pybaseball/cache/\")\n",
    "#df.to_csv(\"data/statcast/2015-2024_pitch_outcomes.csv\")"
   ]
  },
  {
   "cell_type": "code",
   "execution_count": null,
   "id": "6d44395d-ac17-4224-846b-56c50e2c6c50",
   "metadata": {},
   "outputs": [],
   "source": [
    "df.game_date = pd.to_datetime(df.game_date)\n",
    "# add game date and outcome to pitch_features so we retain it after preprocessing\n",
    "pitch_features.extend(outcome_features)\n",
    "pitch_features.append('game_date')\n",
    "# get the preprocessed dataframe and the mapping of player id to embedding index\n",
    "df, batter_map, pitcher_map = preprocess(df, pitch_features)\n",
    "\n",
    "with open(\"data/preprocessed/batter_map_2015_2024.json\",\"w\") as infile:\n",
    "    json.dump(batter_map,infile,indent=6)\n",
    "with open(\"data/preprocessed/pitcher_map_2015_2024.json\",\"w\") as infile:\n",
    "    json.dump(pitcher_map,infile,indent=6)"
   ]
  },
  {
   "cell_type": "markdown",
   "id": "3ca45822-27fe-427f-b826-979c2bb6d6f5",
   "metadata": {},
   "source": [
    "# Get data for training and validation"
   ]
  },
  {
   "cell_type": "markdown",
   "id": "fa92a44c-0dda-4af9-bc43-b0b167f20f23",
   "metadata": {},
   "source": [
    "We will do simple min-max scaling to normalize our pitch features"
   ]
  },
  {
   "cell_type": "code",
   "execution_count": null,
   "id": "91441dff-0dea-439f-92e4-8a46f3c93722",
   "metadata": {},
   "outputs": [],
   "source": [
    "# get min max of pitch features\n",
    "X_df = df.drop(['type','batter','pitcher','game_date'], axis=1)\n",
    "X_min = X_df.min()\n",
    "X_max = X_df.max()\n",
    "# save min and max\n",
    "X_min.to_csv(\n",
    "    \"data/preprocessed/X_min.csv\",\n",
    "    index=False\n",
    ")\n",
    "X_max.to_csv(\n",
    "    \"data/preprocessed/X_max.csv\",\n",
    "    index=False\n",
    ")\n",
    "# train/test on 2015 to 2023, validate on 2024\n",
    "X_train = df[df.game_date.dt.year < 2024].drop(\n",
    "    ['type','batter','pitcher','game_date'], axis=1\n",
    ")\n",
    "# min max normalize training data\n",
    "X_train_norm = (X_train-X_min)/(X_max-X_min)\n",
    "Y_train = df[df.game_date.dt.year < 2024]['type']\n",
    "# validate on 2024 season\n",
    "X_val = df[df.game_date.dt.year == 2024].drop(\n",
    "    ['type','batter','pitcher','game_date'], axis=1\n",
    ")\n",
    "# normalize\n",
    "X_val_norm = (X_val-X_min)/(X_val-X_max)\n",
    "Y_val = df[df.game_date.dt.year == 2024]['type']"
   ]
  },
  {
   "cell_type": "markdown",
   "id": "17112007-19f1-4787-8b29-2ecbf9d34352",
   "metadata": {},
   "source": [
    "## Get data for without embeddings\n",
    "We will ignore the pitcher and batters since we are only using the statcast pitch features here"
   ]
  },
  {
   "cell_type": "code",
   "execution_count": null,
   "id": "16fd2b8a-8f8b-4cc7-8586-ffe35921f1c1",
   "metadata": {},
   "outputs": [],
   "source": [
    "# output to numpy and save\n",
    "np.save(\n",
    "    \"data/preprocessed/X_train_norm\",\n",
    "    X_train_norm.to_numpy(dtype=np.float32)\n",
    ")\n",
    "np.save(\n",
    "    \"data/preprocessed/Y_train\",    \n",
    "    Y_train.to_numpy(dtype=np.float64)\n",
    ")\n",
    "np.save(\n",
    "    \"data/preprocessed/X_val_norm\",\n",
    "    X_val_norm.to_numpy(dtype=np.float32)\n",
    ")\n",
    "np.save(\n",
    "    \"data/preprocessed/Y_val\",\n",
    "    Y_val.to_numpy(dtype=np.float64)\n",
    ")"
   ]
  },
  {
   "cell_type": "markdown",
   "id": "244734cd-2a03-4015-adaf-7d446ad4ec3d",
   "metadata": {},
   "source": [
    "## Get data for with embeddings\n",
    "We will add back in the pitcher and batters to train pitcher and batter embeddings along with statcast pitch features"
   ]
  },
  {
   "cell_type": "code",
   "execution_count": null,
   "id": "2d57d3b0-94c8-44ef-8847-3c2cffc4c655",
   "metadata": {},
   "outputs": [],
   "source": [
    "X_train_norm['batter'] = df[df.game_date.dt.year < 2024]['batter']\n",
    "X_train_norm['pitcher'] = df[df.game_date.dt.year < 2024]['pitcher']\n",
    "X_val_norm['batter'] = df[df.game_date.dt.year == 2024]['batter']\n",
    "X_val_norm['pitcher'] = df[df.game_date.dt.year == 2024]['pitcher']\n",
    "\n",
    "# output to numpy and save\n",
    "np.save(\n",
    "    \"data/preprocessed/X_train_norm_embed\",\n",
    "    X_train_norm.to_numpy(dtype=np.float32)\n",
    ")\n",
    "np.save(\n",
    "    \"data/preprocessed/X_val_norm_embed\",\n",
    "    X_val_norm.to_numpy(dtype=np.float32)\n",
    ")"
   ]
  },
  {
   "cell_type": "markdown",
   "id": "c3d9d27a-f897-4fb7-a60c-3fbbe76d639d",
   "metadata": {},
   "source": [
    "# Get player information\n",
    "Get pitchers and batter handedness and statistics for evaluation"
   ]
  },
  {
   "cell_type": "code",
   "execution_count": null,
   "id": "dc9ad211-0fce-41fe-ae69-dc70a471fc18",
   "metadata": {},
   "outputs": [],
   "source": [
    "# get player_id info from pitcher/batter map, needed to get baseball reference id\n",
    "pitchers = playerid_reverse_lookup(\n",
    "    int(x) for x in list(pitcher_map.keys())\n",
    ")\n",
    "batters = playerid_reverse_lookup(\n",
    "    int(x) for x in list(batter_map.keys())\n",
    ")"
   ]
  },
  {
   "cell_type": "code",
   "execution_count": null,
   "id": "ac174573-fdb6-48a7-8572-1cce43a7b788",
   "metadata": {},
   "outputs": [],
   "source": [
    "def get_players_info(bbrefs):\n",
    "    \"\"\"\n",
    "    Get player info (Position, Bats,Throws) for each player \n",
    "    identified by their bbref id.\n",
    "\n",
    "    Returns:\n",
    "        dataframe containing (Position, Bats, Throws, key_bbref)\n",
    "    \"\"\"\n",
    "    infos = []\n",
    "    for bbref in bbrefs:\n",
    "        try:\n",
    "            _, info = get_splits(bbref, player_info=True)\n",
    "            info['key_bbref'] = bbref\n",
    "            infos.append(info)\n",
    "        except Exception as e: \n",
    "            print(e, bbref)\n",
    "    return pd.DataFrame(infos)"
   ]
  },
  {
   "cell_type": "markdown",
   "id": "c6ffce26-1ef5-4919-98d0-2bd60be121de",
   "metadata": {},
   "source": [
    "###  Pull player info and save to csv"
   ]
  },
  {
   "cell_type": "code",
   "execution_count": null,
   "id": "879bbc74-8765-4046-951a-38b2f90bd2f8",
   "metadata": {},
   "outputs": [],
   "source": [
    "pitcher_infos = get_players_info(pitchers['key_bbref'].tolist())\n",
    "all_pitchers_info = pitchers.join(pitcher_infos.set_index('key_bbref'), on='key_bbref')\n",
    "all_pitchers_info.to_csv(\"data/preprocessed/pitchers.csv\", index=False)\n",
    "\n",
    "batter_infos = get_players_info(batters['key_bbref'].tolist())\n",
    "all_batters_info = batters.join(batter_infos.set_index('key_bbref'), on='key_bbref')\n",
    "all_batters_info.to_csv(\"data/preprocessed/batters.csv\", index=False)"
   ]
  },
  {
   "cell_type": "markdown",
   "id": "79de44cd-7370-41df-b661-3c161f098067",
   "metadata": {},
   "source": [
    "### Get pitching stats"
   ]
  },
  {
   "cell_type": "code",
   "execution_count": null,
   "id": "2f32a5fa-c80e-49a3-bc06-e9f484e79980",
   "metadata": {},
   "outputs": [],
   "source": [
    "def get_pitching_stats(start_year, end_year):\n",
    "    \"\"\"\n",
    "    Get the pitching stats of all pitchers based on year.\n",
    "\n",
    "    Returns: \n",
    "        dataframe containing stats and year \n",
    "    \"\"\"\n",
    "    df = pd.DataFrame()\n",
    "    for year in range(start_year, end_year+1):\n",
    "        print(year)\n",
    "        data = pitching_stats_bref(year)\n",
    "        data['year'] = year\n",
    "        df = pd.concat([df, data])\n",
    "    return df\n",
    "    \n",
    "pitcher_stats = get_pitching_stats(2015, 2024)\n",
    "pitcher_stats.to_csv(\"data/stats/pitching_stats_2015_2024.csv\",index=False)"
   ]
  },
  {
   "cell_type": "markdown",
   "id": "53defb57-4e75-41f0-b4f1-70865f24258e",
   "metadata": {},
   "source": [
    "### Get batting stats"
   ]
  },
  {
   "cell_type": "code",
   "execution_count": null,
   "id": "aa929a83-661d-4769-a8af-869cd20acb55",
   "metadata": {},
   "outputs": [],
   "source": [
    "def get_batting_stats(start_year, end_year):\n",
    "    \"\"\"\n",
    "    Get the pitching stats of all pitchers based on year.\n",
    "\n",
    "    Returns: \n",
    "        dataframe containing stats and year \n",
    "    \"\"\"\n",
    "    df = pd.DataFrame()\n",
    "    for year in range(start_year, end_year+1):\n",
    "        print(year)\n",
    "        data = batting_stats_bref(year)\n",
    "        data['year'] = year\n",
    "        df = pd.concat([df, data])\n",
    "    return df\n",
    "    \n",
    "batter_stats = get_batting_stats(2015, 2024)\n",
    "batter_stats.to_csv(\"data/stats/batter_stats_2015_2024.csv\",index=False)"
   ]
  }
 ],
 "metadata": {
  "kernelspec": {
   "display_name": "Python 3 (ipykernel)",
   "language": "python",
   "name": "python3"
  },
  "language_info": {
   "codemirror_mode": {
    "name": "ipython",
    "version": 3
   },
   "file_extension": ".py",
   "mimetype": "text/x-python",
   "name": "python",
   "nbconvert_exporter": "python",
   "pygments_lexer": "ipython3",
   "version": "3.12.9"
  }
 },
 "nbformat": 4,
 "nbformat_minor": 5
}
